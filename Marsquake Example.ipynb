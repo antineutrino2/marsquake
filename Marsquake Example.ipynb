{
 "cells": [
  {
   "cell_type": "markdown",
   "id": "23b8840c",
   "metadata": {},
   "source": [
    "# Mars Seismic Data Visualization\n",
    "\n",
    "\n",
    "This is a notebook to download and visualize Mars seismic event data from the xxxx 3-component seismiometer\n",
    "\n",
    "Here is a great readme on downloading the data and formatting it from NASA: https://pds-geosciences.wustl.edu/insight/urn-nasa-pds-insight_seis/readme.txt\n",
    "\n",
    "First need to:\n",
    " -  Choose the events by downloading the catalog (FIGURE OUT WHERE TO GET RELIABLE CATALOG #TODO)\n",
    " -  Download the raw data automatically from NASA\n",
    " -  Choose event/date time range to look at"
   ]
  },
  {
   "cell_type": "code",
   "execution_count": 13,
   "id": "9cd4fa4f",
   "metadata": {},
   "outputs": [
    {
     "ename": "TypeError",
     "evalue": "Format \"MSEED\" is not supported. Supported types: ",
     "output_type": "error",
     "traceback": [
      "\u001b[1;31m---------------------------------------------------------------------------\u001b[0m",
      "\u001b[1;31mKeyError\u001b[0m                                  Traceback (most recent call last)",
      "File \u001b[1;32mC:\\Python310\\lib\\site-packages\\obspy\\core\\util\\base.py:408\u001b[0m, in \u001b[0;36m_read_from_plugin\u001b[1;34m(plugin_type, filename, format, **kwargs)\u001b[0m\n\u001b[0;32m    407\u001b[0m \u001b[38;5;28;01mtry\u001b[39;00m:\n\u001b[1;32m--> 408\u001b[0m     format_ep \u001b[38;5;241m=\u001b[39m \u001b[43meps\u001b[49m\u001b[43m[\u001b[49m\u001b[38;5;28;43mformat\u001b[39;49m\u001b[43m]\u001b[49m\n\u001b[0;32m    409\u001b[0m \u001b[38;5;28;01mexcept\u001b[39;00m (\u001b[38;5;167;01mKeyError\u001b[39;00m, \u001b[38;5;167;01mIndexError\u001b[39;00m):\n",
      "\u001b[1;31mKeyError\u001b[0m: 'MSEED'",
      "\nDuring handling of the above exception, another exception occurred:\n",
      "\u001b[1;31mTypeError\u001b[0m                                 Traceback (most recent call last)",
      "Cell \u001b[1;32mIn [13], line 24\u001b[0m\n\u001b[0;32m     21\u001b[0m file_name \u001b[38;5;241m=\u001b[39m \u001b[38;5;124m\"\u001b[39m\u001b[38;5;124mxb.elyse.02.bhu.2022.001.8.mseed\u001b[39m\u001b[38;5;124m\"\u001b[39m\n\u001b[0;32m     23\u001b[0m urllib\u001b[38;5;241m.\u001b[39mrequest\u001b[38;5;241m.\u001b[39murlretrieve(testurl, file_name)\n\u001b[1;32m---> 24\u001b[0m st \u001b[38;5;241m=\u001b[39m \u001b[43mobread\u001b[49m\u001b[43m(\u001b[49m\u001b[43mfile_name\u001b[49m\u001b[43m,\u001b[49m\u001b[43m \u001b[49m\u001b[38;5;28;43mformat\u001b[39;49m\u001b[38;5;241;43m=\u001b[39;49m\u001b[38;5;124;43m'\u001b[39;49m\u001b[38;5;124;43mMSEED\u001b[39;49m\u001b[38;5;124;43m'\u001b[39;49m\u001b[43m)\u001b[49m\n\u001b[0;32m     26\u001b[0m st\u001b[38;5;241m.\u001b[39mplot()\n\u001b[0;32m     27\u001b[0m plt\u001b[38;5;241m.\u001b[39mshow()\n",
      "File \u001b[1;32m<decorator-gen-49>:2\u001b[0m, in \u001b[0;36mread\u001b[1;34m(pathname_or_url, format, headonly, starttime, endtime, nearest_sample, dtype, apply_calib, check_compression, **kwargs)\u001b[0m\n",
      "File \u001b[1;32mC:\\Python310\\lib\\site-packages\\obspy\\core\\util\\decorator.py:297\u001b[0m, in \u001b[0;36mmap_example_filename.<locals>._map_example_filename\u001b[1;34m(func, *args, **kwargs)\u001b[0m\n\u001b[0;32m    295\u001b[0m                 \u001b[38;5;28;01mexcept\u001b[39;00m \u001b[38;5;167;01mIOError\u001b[39;00m:\n\u001b[0;32m    296\u001b[0m                     \u001b[38;5;28;01mpass\u001b[39;00m\n\u001b[1;32m--> 297\u001b[0m \u001b[38;5;28;01mreturn\u001b[39;00m func(\u001b[38;5;241m*\u001b[39margs, \u001b[38;5;241m*\u001b[39m\u001b[38;5;241m*\u001b[39mkwargs)\n",
      "File \u001b[1;32mC:\\Python310\\lib\\site-packages\\obspy\\core\\stream.py:208\u001b[0m, in \u001b[0;36mread\u001b[1;34m(pathname_or_url, format, headonly, starttime, endtime, nearest_sample, dtype, apply_calib, check_compression, **kwargs)\u001b[0m\n\u001b[0;32m    206\u001b[0m     st \u001b[38;5;241m=\u001b[39m _create_example_stream(headonly\u001b[38;5;241m=\u001b[39mheadonly)\n\u001b[0;32m    207\u001b[0m \u001b[38;5;28;01melse\u001b[39;00m:\n\u001b[1;32m--> 208\u001b[0m     st \u001b[38;5;241m=\u001b[39m _generic_reader(pathname_or_url, _read, \u001b[38;5;241m*\u001b[39m\u001b[38;5;241m*\u001b[39mkwargs)\n\u001b[0;32m    210\u001b[0m \u001b[38;5;28;01mif\u001b[39;00m \u001b[38;5;28mlen\u001b[39m(st) \u001b[38;5;241m==\u001b[39m \u001b[38;5;241m0\u001b[39m:\n\u001b[0;32m    211\u001b[0m     \u001b[38;5;66;03m# try to give more specific information why the stream is empty\u001b[39;00m\n\u001b[0;32m    212\u001b[0m     \u001b[38;5;28;01mif\u001b[39;00m has_magic(pathname_or_url) \u001b[38;5;129;01mand\u001b[39;00m \u001b[38;5;129;01mnot\u001b[39;00m glob(pathname_or_url):\n",
      "File \u001b[1;32mC:\\Python310\\lib\\site-packages\\obspy\\core\\util\\base.py:658\u001b[0m, in \u001b[0;36m_generic_reader\u001b[1;34m(pathname_or_url, callback_func, **kwargs)\u001b[0m\n\u001b[0;32m    655\u001b[0m     \u001b[38;5;28;01melif\u001b[39;00m \u001b[38;5;129;01mnot\u001b[39;00m glob\u001b[38;5;241m.\u001b[39mhas_magic(pathname) \u001b[38;5;129;01mand\u001b[39;00m \u001b[38;5;129;01mnot\u001b[39;00m Path(pathname)\u001b[38;5;241m.\u001b[39mis_file():\n\u001b[0;32m    656\u001b[0m         \u001b[38;5;28;01mraise\u001b[39;00m \u001b[38;5;167;01mIOError\u001b[39;00m(\u001b[38;5;241m2\u001b[39m, \u001b[38;5;124m\"\u001b[39m\u001b[38;5;124mNo such file or directory\u001b[39m\u001b[38;5;124m\"\u001b[39m, pathname)\n\u001b[1;32m--> 658\u001b[0m generic \u001b[38;5;241m=\u001b[39m callback_func(pathnames[\u001b[38;5;241m0\u001b[39m], \u001b[38;5;241m*\u001b[39m\u001b[38;5;241m*\u001b[39mkwargs)\n\u001b[0;32m    659\u001b[0m \u001b[38;5;28;01mif\u001b[39;00m \u001b[38;5;28mlen\u001b[39m(pathnames) \u001b[38;5;241m>\u001b[39m \u001b[38;5;241m1\u001b[39m:\n\u001b[0;32m    660\u001b[0m     \u001b[38;5;28;01mfor\u001b[39;00m filename \u001b[38;5;129;01min\u001b[39;00m pathnames[\u001b[38;5;241m1\u001b[39m:]:\n",
      "File \u001b[1;32m<decorator-gen-50>:2\u001b[0m, in \u001b[0;36m_read\u001b[1;34m(filename, format, headonly, **kwargs)\u001b[0m\n",
      "File \u001b[1;32mC:\\Python310\\lib\\site-packages\\obspy\\core\\util\\decorator.py:208\u001b[0m, in \u001b[0;36muncompress_file\u001b[1;34m(func, filename, *args, **kwargs)\u001b[0m\n\u001b[0;32m    205\u001b[0m                 result \u001b[38;5;241m+\u001b[39m\u001b[38;5;241m=\u001b[39m stream\n\u001b[0;32m    206\u001b[0m \u001b[38;5;28;01melse\u001b[39;00m:\n\u001b[0;32m    207\u001b[0m     \u001b[38;5;66;03m# no compressions\u001b[39;00m\n\u001b[1;32m--> 208\u001b[0m     result \u001b[38;5;241m=\u001b[39m func(filename, \u001b[38;5;241m*\u001b[39margs, \u001b[38;5;241m*\u001b[39m\u001b[38;5;241m*\u001b[39mkwargs)\n\u001b[0;32m    209\u001b[0m \u001b[38;5;28;01mreturn\u001b[39;00m result\n",
      "File \u001b[1;32mC:\\Python310\\lib\\site-packages\\obspy\\core\\stream.py:249\u001b[0m, in \u001b[0;36m_read\u001b[1;34m(filename, format, headonly, **kwargs)\u001b[0m\n\u001b[0;32m    244\u001b[0m \u001b[38;5;129m@uncompress_file\u001b[39m\n\u001b[0;32m    245\u001b[0m \u001b[38;5;28;01mdef\u001b[39;00m \u001b[38;5;21m_read\u001b[39m(filename, \u001b[38;5;28mformat\u001b[39m\u001b[38;5;241m=\u001b[39m\u001b[38;5;28;01mNone\u001b[39;00m, headonly\u001b[38;5;241m=\u001b[39m\u001b[38;5;28;01mFalse\u001b[39;00m, \u001b[38;5;241m*\u001b[39m\u001b[38;5;241m*\u001b[39mkwargs):\n\u001b[0;32m    246\u001b[0m     \u001b[38;5;124;03m\"\"\"\u001b[39;00m\n\u001b[0;32m    247\u001b[0m \u001b[38;5;124;03m    Read a single file into a ObsPy Stream object.\u001b[39;00m\n\u001b[0;32m    248\u001b[0m \u001b[38;5;124;03m    \"\"\"\u001b[39;00m\n\u001b[1;32m--> 249\u001b[0m     stream, \u001b[38;5;28mformat\u001b[39m \u001b[38;5;241m=\u001b[39m _read_from_plugin(\u001b[38;5;124m'\u001b[39m\u001b[38;5;124mwaveform\u001b[39m\u001b[38;5;124m'\u001b[39m, filename, \u001b[38;5;28mformat\u001b[39m\u001b[38;5;241m=\u001b[39m\u001b[38;5;28mformat\u001b[39m,\n\u001b[0;32m    250\u001b[0m                                        headonly\u001b[38;5;241m=\u001b[39mheadonly, \u001b[38;5;241m*\u001b[39m\u001b[38;5;241m*\u001b[39mkwargs)\n\u001b[0;32m    251\u001b[0m     \u001b[38;5;66;03m# set _format identifier for each element\u001b[39;00m\n\u001b[0;32m    252\u001b[0m     \u001b[38;5;28;01mfor\u001b[39;00m trace \u001b[38;5;129;01min\u001b[39;00m stream:\n",
      "File \u001b[1;32mC:\\Python310\\lib\\site-packages\\obspy\\core\\util\\base.py:411\u001b[0m, in \u001b[0;36m_read_from_plugin\u001b[1;34m(plugin_type, filename, format, **kwargs)\u001b[0m\n\u001b[0;32m    409\u001b[0m     \u001b[38;5;28;01mexcept\u001b[39;00m (\u001b[38;5;167;01mKeyError\u001b[39;00m, \u001b[38;5;167;01mIndexError\u001b[39;00m):\n\u001b[0;32m    410\u001b[0m         msg \u001b[38;5;241m=\u001b[39m \u001b[38;5;124m\"\u001b[39m\u001b[38;5;124mFormat \u001b[39m\u001b[38;5;130;01m\\\"\u001b[39;00m\u001b[38;5;132;01m%s\u001b[39;00m\u001b[38;5;130;01m\\\"\u001b[39;00m\u001b[38;5;124m is not supported. Supported types: \u001b[39m\u001b[38;5;132;01m%s\u001b[39;00m\u001b[38;5;124m\"\u001b[39m\n\u001b[1;32m--> 411\u001b[0m         \u001b[38;5;28;01mraise\u001b[39;00m \u001b[38;5;167;01mTypeError\u001b[39;00m(msg \u001b[38;5;241m%\u001b[39m (\u001b[38;5;28mformat\u001b[39m, \u001b[38;5;124m'\u001b[39m\u001b[38;5;124m, \u001b[39m\u001b[38;5;124m'\u001b[39m\u001b[38;5;241m.\u001b[39mjoin(eps)))\n\u001b[0;32m    412\u001b[0m \u001b[38;5;66;03m# file format should be known by now\u001b[39;00m\n\u001b[0;32m    413\u001b[0m \u001b[38;5;28;01mtry\u001b[39;00m:\n\u001b[0;32m    414\u001b[0m     \u001b[38;5;66;03m# search readFormat for given entry point\u001b[39;00m\n",
      "\u001b[1;31mTypeError\u001b[0m: Format \"MSEED\" is not supported. Supported types: "
     ]
    }
   ],
   "source": [
    "import obspy\n",
    "import pandas\n",
    "import os\n",
    "import urllib.request\n",
    "import obspy\n",
    "from obspy import read as obread\n",
    "import matplotlib.pyplot as plt\n",
    "\n",
    "\n",
    "baseurl = \"https://pds-geosciences.wustl.edu/insight/urn-nasa-pds-insight_seis/data/xb/continuous_waveform/elyse/\"\n",
    "\n",
    "# Years data is avalibale \n",
    "years = [2018,2019,2020,2021,2022,2023]\n",
    "\n",
    "# Solar days data is avalibale\n",
    "soldays = [str(x).zfill(3) for x in range(367)]\n",
    "\n",
    "#seedfile = urllib.getrequest()\n",
    "\n",
    "testurl = \"https://pds-geosciences.wustl.edu/insight/urn-nasa-pds-insight_seis/data/xb/continuous_waveform/elyse/2022/001/\"\n",
    "file_name = \"xb.elyse.02.bhu.2022.001.8.mseed\"\n",
    "\n",
    "urllib.request.urlretrieve(testurl, file_name)\n",
    "st = obread(file_name, format='MSEED')\n",
    "\n",
    "st.plot()\n",
    "plt.show()\n"
   ]
  },
  {
   "cell_type": "code",
   "execution_count": null,
   "id": "968e7f75",
   "metadata": {},
   "outputs": [],
   "source": []
  }
 ],
 "metadata": {
  "kernelspec": {
   "display_name": "Python 3 (ipykernel)",
   "language": "python",
   "name": "python3"
  },
  "language_info": {
   "codemirror_mode": {
    "name": "ipython",
    "version": 3
   },
   "file_extension": ".py",
   "mimetype": "text/x-python",
   "name": "python",
   "nbconvert_exporter": "python",
   "pygments_lexer": "ipython3",
   "version": "3.10.8"
  }
 },
 "nbformat": 4,
 "nbformat_minor": 5
}
