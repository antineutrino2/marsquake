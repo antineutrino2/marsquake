{
 "cells": [
  {
   "cell_type": "markdown",
   "id": "23b8840c",
   "metadata": {},
   "source": [
    "# Mars Seismic Data Visualization\n",
    "\n",
    "\n",
    "This is a notebook to download and visualize Mars seismic event data from the xxxx 3-component seismiometer\n",
    "\n",
    "Here is a great readme on downloading the data and formatting it from NASA: https://pds-geosciences.wustl.edu/insight/urn-nasa-pds-insight_seis/readme.txt\n",
    "\n",
    "First need to:\n",
    " -  Choose the events by downloading the catalog (FIGURE OUT WHERE TO GET RELIABLE CATALOG #TODO)\n",
    " -  Download the raw data automatically from NASA\n",
    " -  Choose event/date time range to look at"
   ]
  },
  {
   "cell_type": "code",
   "execution_count": null,
   "id": "9cd4fa4f",
   "metadata": {},
   "outputs": [],
   "source": [
    "import pandas as pd\n",
    "import os\n",
    "import urllib.request\n",
    "import matplotlib.pyplot as plt\n",
    "import requests\n",
    "\n",
    "baseurl = \"https://pds-geosciences.wustl.edu/insight/urn-nasa-pds-insight_seis/data/xb/continuous_waveform/elyse/\"\n",
    "\n",
    "# Years data is avalibale \n",
    "years = [2018,2019,2020,2021,2022,2023]\n",
    "\n",
    "# Solar days data is avalibale\n",
    "soldays = [str(x).zfill(3) for x in range(367)]\n",
    "\n",
    "# Download the seismicity data\n",
    "url = \"https://pds-geosciences.wustl.edu/insight/urn-nasa-pds-insight_seis/data/xb/continuous_waveform/elyse/2022/001/xb.elyse.02.bhu.2022.001.8.a.csv\"\n",
    "response = requests.get(url)\n",
    "\n",
    "# Check if the request was successful (status code 200)\n",
    "if response.status_code == 200:\n",
    "    # Read the content of the response into a pandas DataFrame\n",
    "    data = pd.read_csv(pd.StringIO(response.text), skiprows=19, delimiter=',')\n",
    "\n",
    "    # Set column names\n",
    "    data.columns = [\"Time\", \"Amplitude\"]\n",
    "\n",
    "    # Plot the seismic data\n",
    "    plt.figure(figsize=(14, 6))\n",
    "    plt.plot(data[\"time\"], data[\"seismic_data\"])\n",
    "    plt.xlabel(\"Time (s)\")\n",
    "    plt.ylabel(\"Seismic Data\")\n",
    "    plt.title(\"Seismic Data from InSight SEIS\")\n",
    "    plt.grid(True)\n",
    "    plt.show()\n",
    "\n",
    "else:\n",
    "    print(\"Error: Could not download the data. Status code:\", response.status_code)\n"
   ]
  },
  {
   "cell_type": "code",
   "execution_count": null,
   "id": "968e7f75",
   "metadata": {},
   "outputs": [],
   "source": []
  }
 ],
 "metadata": {
  "kernelspec": {
   "display_name": "Python 3 (ipykernel)",
   "language": "python",
   "name": "python3"
  },
  "language_info": {
   "codemirror_mode": {
    "name": "ipython",
    "version": 3
   },
   "file_extension": ".py",
   "mimetype": "text/x-python",
   "name": "python",
   "nbconvert_exporter": "python",
   "pygments_lexer": "ipython3",
   "version": "3.10.8"
  }
 },
 "nbformat": 4,
 "nbformat_minor": 5
}
